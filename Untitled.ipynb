{
 "cells": [
  {
   "cell_type": "markdown",
   "id": "7d6a4f45-e5f8-428b-86c9-4542de64cc85",
   "metadata": {},
   "source": [
    "# Systems Test Header\n",
    "This is just a sentence\n",
    "\n",
    "## This is Subhead\n",
    "\n",
    "\n"
   ]
  },
  {
   "cell_type": "markdown",
   "id": "0c60a1aa-73ad-4b47-bf83-e6201400d1e8",
   "metadata": {},
   "source": [
    "This is a list\n",
    "\n",
    "1. one\n",
    "2. two\n",
    "\n",
    "- one\n",
    "- two\n",
    "\n",
    "Learn to _fly_. \n"
   ]
  },
  {
   "cell_type": "code",
   "execution_count": 2,
   "id": "782b5534-9a02-4abf-82d3-c1b1fabea772",
   "metadata": {},
   "outputs": [
    {
     "name": "stdin",
     "output_type": "stream",
     "text": [
      "enter your name: Kenzee\n"
     ]
    },
    {
     "name": "stdout",
     "output_type": "stream",
     "text": [
      "hello Kenzee\n"
     ]
    }
   ],
   "source": [
    "name = input(\"enter your name:\")\n",
    "print(\"hello\", name)"
   ]
  },
  {
   "cell_type": "code",
   "execution_count": 3,
   "id": "8e819f81-381e-423e-aa2f-64525c2b9a47",
   "metadata": {},
   "outputs": [
    {
     "name": "stdout",
     "output_type": "stream",
     "text": [
      "5\n"
     ]
    }
   ],
   "source": [
    "a = 5\n",
    "print(a)"
   ]
  },
  {
   "cell_type": "code",
   "execution_count": null,
   "id": "c52be7cc-6c06-4a48-bdbd-95f5ddc2d618",
   "metadata": {},
   "outputs": [],
   "source": []
  }
 ],
 "metadata": {
  "kernelspec": {
   "display_name": "Python 3 (ipykernel)",
   "language": "python",
   "name": "python3"
  },
  "language_info": {
   "codemirror_mode": {
    "name": "ipython",
    "version": 3
   },
   "file_extension": ".py",
   "mimetype": "text/x-python",
   "name": "python",
   "nbconvert_exporter": "python",
   "pygments_lexer": "ipython3",
   "version": "3.12.11"
  }
 },
 "nbformat": 4,
 "nbformat_minor": 5
}
